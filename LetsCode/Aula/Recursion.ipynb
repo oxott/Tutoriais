{
 "cells": [
  {
   "cell_type": "code",
   "execution_count": 8,
   "metadata": {},
   "outputs": [],
   "source": [
    "def fat(n):\n",
    "    if n <= 1:\n",
    "        return 1\n",
    "    else:\n",
    "        return n*fat(n-1)"
   ]
  },
  {
   "cell_type": "code",
   "execution_count": 4,
   "metadata": {},
   "outputs": [],
   "source": [
    "import numpy as np\n",
    "grade_1 = np.array(\n",
    "    [[8,6,0,0,9,3,0,1,0],\n",
    "     [0,9,5,0,0,4,0,6,2],\n",
    "     [0,0,7,2,0,8,0,9,5],\n",
    "     [0,0,3,9,2,0,7,4,0],\n",
    "     [7,0,4,6,8,0,5,0,0],\n",
    "     [1,5,0,0,4,0,2,0,6],\n",
    "     [0,4,0,1,7,6,9,0,0],\n",
    "     [9,0,0,8,0,2,0,0,4],\n",
    "     [5,7,1,0,0,0,6,2,8]])\n",
    "grade_2 =np.array(\n",
    "    [[5,3,0,0,7,0,0,0,0],\n",
    "     [6,0,0,1,9,5,0,0,0],\n",
    "     [0,9,8,0,0,0,0,6,0],\n",
    "     [8,0,0,0,6,0,0,0,3],\n",
    "     [4,0,0,8,0,3,0,0,1],\n",
    "     [7,0,0,0,2,0,0,0,6],\n",
    "     [0,6,0,0,0,0,2,8,0],\n",
    "     [0,0,0,4,1,9,0,0,5],\n",
    "     [0,0,0,0,8,0,0,7,9]])"
   ]
  },
  {
   "cell_type": "code",
   "execution_count": 5,
   "metadata": {},
   "outputs": [],
   "source": [
    "def possivel(grade, y, x, n):\n",
    "    #grade[linha][coluna]\n",
    "    #É possível colocar n na linha 'y', coluna 'x' da grade?\n",
    "    #testo a linha\n",
    "    for i in range(9):\n",
    "        if grade[y][i] == n:\n",
    "            return False\n",
    "    #testar a coluna\n",
    "    for i in range(9):\n",
    "        if grade[i][x] == n:\n",
    "            return False\n",
    "    #verifico a Caixa\n",
    "    x0 = (x//3) * 3\n",
    "    y0 = (y//3) * 3\n",
    "    for i in range(3):\n",
    "        for j in range(3):\n",
    "            if grade[y0 + i][x0 + j] == n:\n",
    "                return False\n",
    "    return True    "
   ]
  },
  {
   "cell_type": "code",
   "execution_count": 10,
   "metadata": {},
   "outputs": [],
   "source": [
    "def solve(grade):\n",
    "    for i in range(9):\n",
    "        for j in range(9):\n",
    "            if grade[i][j] == 0:\n",
    "                for n in range(1,10):\n",
    "                    if possivel(grade, i, j, n):\n",
    "                        grade[i][j] = n\n",
    "                        solve(grade)\n",
    "                        grade[i][j] = 0\n",
    "                return    \n",
    "    print(grade)\n",
    "    input('q ota')"
   ]
  },
  {
   "cell_type": "code",
   "execution_count": null,
   "metadata": {},
   "outputs": [
    {
     "name": "stdout",
     "output_type": "stream",
     "text": [
      "[[5 3 4 6 7 8 9 1 2]\n",
      " [6 7 2 1 9 5 3 4 8]\n",
      " [1 9 8 3 4 2 5 6 7]\n",
      " [8 5 9 7 6 1 4 2 3]\n",
      " [4 2 6 8 5 3 7 9 1]\n",
      " [7 1 3 9 2 4 8 5 6]\n",
      " [9 6 1 5 3 7 2 8 4]\n",
      " [2 8 7 4 1 9 6 3 5]\n",
      " [3 4 5 2 8 6 1 7 9]]\n"
     ]
    }
   ],
   "source": [
    "solve(grade_2)"
   ]
  }
 ],
 "metadata": {
  "kernelspec": {
   "display_name": "Python 3",
   "language": "python",
   "name": "python3"
  },
  "language_info": {
   "codemirror_mode": {
    "name": "ipython",
    "version": 3
   },
   "file_extension": ".py",
   "mimetype": "text/x-python",
   "name": "python",
   "nbconvert_exporter": "python",
   "pygments_lexer": "ipython3",
   "version": "3.7.7"
  }
 },
 "nbformat": 4,
 "nbformat_minor": 4
}
